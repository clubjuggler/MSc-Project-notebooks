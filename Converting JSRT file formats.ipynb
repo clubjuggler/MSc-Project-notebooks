{
 "cells": [
  {
   "cell_type": "markdown",
   "metadata": {},
   "source": [
    "This script converts the images from the .IMG format (which Python can work with but is hard work) to numpy arrays which is much easier to work with in Python. "
   ]
  },
  {
   "cell_type": "code",
   "execution_count": 2,
   "metadata": {},
   "outputs": [],
   "source": [
    "from skimage import io\n",
    "import glob\n",
    "import os"
   ]
  },
  {
   "cell_type": "code",
   "execution_count": 69,
   "metadata": {},
   "outputs": [],
   "source": [
    "import matplotlib.pyplot as plt\n",
    "import numpy as np\n",
    "\n",
    "# Getting a list of all the image files\n",
    "path = glob.glob('Raw Data/All247images/All247images/JP*.IMG')\n",
    "shape = (2048, 2048) # image size\n",
    "dtype = np.dtype('>u2') # Setting the datatype: 16bit unsigned integer \n",
    "\n",
    "\n",
    "for n in range(len(path)):\n",
    "    output_filename = 'Raw Data/All247images/All247images/'+path[n].split('\\\\')[1].split('.')[0]\n",
    "\n",
    "    # Reading image and converting it to a Python compatible format.\n",
    "    fid = open(path[n], 'rb')\n",
    "    data = np.fromfile(fid, dtype)\n",
    "    image = data.reshape(shape)\n",
    "\n",
    "    # Saving the image down in npy file format\n",
    "    np.save(output_filename, image)"
   ]
  }
 ],
 "metadata": {
  "kernelspec": {
   "display_name": "Python 3",
   "language": "python",
   "name": "python3"
  },
  "language_info": {
   "codemirror_mode": {
    "name": "ipython",
    "version": 3
   },
   "file_extension": ".py",
   "mimetype": "text/x-python",
   "name": "python",
   "nbconvert_exporter": "python",
   "pygments_lexer": "ipython3",
   "version": "3.7.3"
  }
 },
 "nbformat": 4,
 "nbformat_minor": 2
}
