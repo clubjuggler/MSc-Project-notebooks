{
 "cells": [
  {
   "cell_type": "markdown",
   "metadata": {},
   "source": [
    "This short script generates ground truth arrays to use in machine learning applications (1 for nodules, 0 for negative images).  \n",
    "This groundtruth array is then saved down for use in future scripts."
   ]
  },
  {
   "cell_type": "code",
   "execution_count": 7,
   "metadata": {},
   "outputs": [
    {
     "name": "stdout",
     "output_type": "stream",
     "text": [
      "['CLNDAT_EN.csv', 'CLNDAT_EN.txt', 'CNNDAT_EN.csv', 'CNNDAT_EN.TXT']\n"
     ]
    }
   ],
   "source": [
    "import numpy as np\n",
    "import pandas as pd\n",
    "import glob\n",
    "import os\n",
    "\n",
    "print(os.listdir('../Raw Data/JSRT_Clinical_Information'))"
   ]
  },
  {
   "cell_type": "code",
   "execution_count": 34,
   "metadata": {},
   "outputs": [
    {
     "name": "stderr",
     "output_type": "stream",
     "text": [
      "C:\\Users\\Sam\\Anaconda3\\envs\\Imaging\\lib\\site-packages\\ipykernel_launcher.py:20: FutureWarning: Sorting because non-concatenation axis is not aligned. A future version\n",
      "of pandas will change to not sort by default.\n",
      "\n",
      "To accept the future behavior, pass 'sort=False'.\n",
      "\n",
      "To retain the current behavior and silence the warning, pass 'sort=True'.\n",
      "\n"
     ]
    }
   ],
   "source": [
    "# Creating list of JSRT images with ground truth finding labels\n",
    "\n",
    "#Reading in data csvs for positive and negative images\n",
    "nodules = pd.read_csv('../Raw Data/JSRT_Clinical_Information/CLNDAT_EN.csv', index_col = 'Image Index')\n",
    "healthy = pd.read_csv('../Raw Data/JSRT_Clinical_Information/CNNDAT_EN.csv', index_col = 'Image Index')\n",
    "\n",
    "nodules['Groundtruth labels'] = 1\n",
    "healthy['Groundtruth labels'] = 0\n",
    "\n",
    "#Generating new dataframe and adding the ground truth finding labels (1 for nodule, 0 for negative (no nodule))\n",
    "nodules.drop(['Age', 'Sex', 'Diagnosis', 'Anatomical Location'], axis = 1, inplace = True)\n",
    "healthy.drop(['Age', 'Sex', 'Diagnosis'], axis = 1, inplace = True)\n",
    "\n",
    "# Reordering the column labels\n",
    "cols = nodules.columns.tolist()\n",
    "cols = cols[-1:] + cols[:-1]\n",
    "nodules = nodules[cols]\n",
    "\n",
    "# Creating new dataframe called groundtruths\n",
    "ground_truths = nodules\n",
    "ground_truths = pd.concat([ground_truths, healthy])\n",
    "\n",
    "ground_truths.to_csv('../Raw Data/JSRT_Clinical_Information/ground_truths.csv')"
   ]
  }
 ],
 "metadata": {
  "kernelspec": {
   "display_name": "Python 3",
   "language": "python",
   "name": "python3"
  },
  "language_info": {
   "codemirror_mode": {
    "name": "ipython",
    "version": 3
   },
   "file_extension": ".py",
   "mimetype": "text/x-python",
   "name": "python",
   "nbconvert_exporter": "python",
   "pygments_lexer": "ipython3",
   "version": "3.7.3"
  }
 },
 "nbformat": 4,
 "nbformat_minor": 2
}
